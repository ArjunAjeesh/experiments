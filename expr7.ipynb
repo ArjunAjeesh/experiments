{
 "cells": [
  {
   "cell_type": "code",
   "execution_count": 1,
   "id": "5d5499e7-5371-4434-8152-1a42186eb3c0",
   "metadata": {},
   "outputs": [],
   "source": [
    "from sklearn import datasets\n",
    "from sklearn.ensemble import ExtraTreesClassifier\n",
    "from sklearn.feature_selection import SelectFromModel\n",
    "from sklearn.model_selection import train_test_split"
   ]
  },
  {
   "cell_type": "code",
   "execution_count": 2,
   "id": "c975b219-3e95-4edf-bd25-cee3750790d9",
   "metadata": {},
   "outputs": [],
   "source": [
    "\n",
    "\n",
    "# Load dataset\n",
    "iris = datasets.load_iris()\n",
    "X = iris.data\n",
    "y = iris.target\n",
    "\n",
    "# Split data into training and testing sets\n",
    "X_train, X_test, y_train, y_test = train_test_split(X, y, test_size=0.3)"
   ]
  },
  {
   "cell_type": "code",
   "execution_count": 3,
   "id": "291e8e15-8359-40e6-b0f0-902c43967fda",
   "metadata": {},
   "outputs": [
    {
     "data": {
      "text/plain": [
       "ExtraTreesClassifier()"
      ]
     },
     "execution_count": 3,
     "metadata": {},
     "output_type": "execute_result"
    }
   ],
   "source": [
    "# Create ExtraTreesClassifier model for feature selection\n",
    "model = ExtraTreesClassifier()\n",
    "model.fit(X_train, y_train)"
   ]
  },
  {
   "cell_type": "code",
   "execution_count": 4,
   "id": "15126db8-53c8-4a62-ba34-6f10d1c82f5c",
   "metadata": {},
   "outputs": [],
   "source": [
    "# Select features using tree-based feature selection\n",
    "selector = SelectFromModel(model, prefit=True)\n",
    "X_train_new = selector.transform(X_train)\n",
    "X_test_new = selector.transform(X_test)"
   ]
  },
  {
   "cell_type": "code",
   "execution_count": 5,
   "id": "7c913306-12f5-4f46-b0f7-80e30fbcc5f5",
   "metadata": {},
   "outputs": [],
   "source": [
    "# Train and test model with selected features\n",
    "clf = ExtraTreesClassifier()\n",
    "clf.fit(X_train_new, y_train)\n",
    "accuracy = clf.score(X_test_new, y_test)"
   ]
  },
  {
   "cell_type": "code",
   "execution_count": 6,
   "id": "26cb175e-d68d-4add-b0c6-058097bc7097",
   "metadata": {},
   "outputs": [
    {
     "data": {
      "text/plain": [
       "0.9555555555555556"
      ]
     },
     "execution_count": 6,
     "metadata": {},
     "output_type": "execute_result"
    }
   ],
   "source": [
    "accuracy"
   ]
  },
  {
   "cell_type": "code",
   "execution_count": 7,
   "id": "bd9ebb4f-c484-47fe-b360-e1e249854b7e",
   "metadata": {},
   "outputs": [],
   "source": [
    "import pandas as pd\n",
    "from sklearn.linear_model import LinearRegression"
   ]
  },
  {
   "cell_type": "code",
   "execution_count": 10,
   "id": "02d04c74-8415-4728-842e-796aa2e3e4fb",
   "metadata": {},
   "outputs": [],
   "source": [
    "# Load the data\n",
    "data = pd.read_excel(r'C:\\Users\\ARJUN\\OneDrive\\Desktop\\new\\jain\\4Th sem dpfe\\exp6.xlsx')"
   ]
  },
  {
   "cell_type": "code",
   "execution_count": 27,
   "id": "abcfc4d5-6859-407e-945a-b8ecc62f0003",
   "metadata": {},
   "outputs": [],
   "source": [
    "# Split the data into X (features) and y (target)\n",
    "X = data[['Age', 'Marks1', 'Marks 2']]\n",
    "y = data['Overall'] #target"
   ]
  },
  {
   "cell_type": "code",
   "execution_count": 28,
   "id": "5250912e-3a78-4990-b590-a9a1ae736e71",
   "metadata": {},
   "outputs": [],
   "source": [
    "# Create a linear regression model\n",
    "model = LinearRegression()"
   ]
  },
  {
   "cell_type": "code",
   "execution_count": 29,
   "id": "878c6491-9152-4492-aeeb-ef4e893339fd",
   "metadata": {},
   "outputs": [
    {
     "data": {
      "text/plain": [
       "LinearRegression()"
      ]
     },
     "execution_count": 29,
     "metadata": {},
     "output_type": "execute_result"
    }
   ],
   "source": [
    "# Fit the model on the training data\n",
    "model.fit(X, y)"
   ]
  },
  {
   "cell_type": "code",
   "execution_count": 30,
   "id": "c24d641d-5e55-4512-8c0a-4eaf145605f0",
   "metadata": {},
   "outputs": [],
   "source": [
    "# Get the coefficients of the model\n",
    "coefficients = pd.DataFrame({'Variable': X.columns, 'Coefficient': model.coef_})"
   ]
  },
  {
   "cell_type": "code",
   "execution_count": 31,
   "id": "f27dd1d9-ba92-42f0-8d48-365fbb5c962f",
   "metadata": {},
   "outputs": [],
   "source": [
    "# Sort the coefficients in descending order\n",
    "coefficients = coefficients.sort_values(by='Coefficient', ascending=False)"
   ]
  },
  {
   "cell_type": "code",
   "execution_count": 32,
   "id": "8ddaed37-6a98-413d-8229-1906b17345d3",
   "metadata": {},
   "outputs": [
    {
     "data": {
      "text/html": [
       "<div>\n",
       "<style scoped>\n",
       "    .dataframe tbody tr th:only-of-type {\n",
       "        vertical-align: middle;\n",
       "    }\n",
       "\n",
       "    .dataframe tbody tr th {\n",
       "        vertical-align: top;\n",
       "    }\n",
       "\n",
       "    .dataframe thead th {\n",
       "        text-align: right;\n",
       "    }\n",
       "</style>\n",
       "<table border=\"1\" class=\"dataframe\">\n",
       "  <thead>\n",
       "    <tr style=\"text-align: right;\">\n",
       "      <th></th>\n",
       "      <th>Variable</th>\n",
       "      <th>Coefficient</th>\n",
       "    </tr>\n",
       "  </thead>\n",
       "  <tbody>\n",
       "    <tr>\n",
       "      <th>0</th>\n",
       "      <td>Age</td>\n",
       "      <td>3.462072</td>\n",
       "    </tr>\n",
       "    <tr>\n",
       "      <th>1</th>\n",
       "      <td>Marks1</td>\n",
       "      <td>0.395649</td>\n",
       "    </tr>\n",
       "    <tr>\n",
       "      <th>2</th>\n",
       "      <td>Marks 2</td>\n",
       "      <td>-0.286043</td>\n",
       "    </tr>\n",
       "  </tbody>\n",
       "</table>\n",
       "</div>"
      ],
      "text/plain": [
       "  Variable  Coefficient\n",
       "0      Age     3.462072\n",
       "1   Marks1     0.395649\n",
       "2  Marks 2    -0.286043"
      ]
     },
     "execution_count": 32,
     "metadata": {},
     "output_type": "execute_result"
    }
   ],
   "source": [
    "coefficients.head(3)"
   ]
  },
  {
   "cell_type": "code",
   "execution_count": null,
   "id": "be90137c-c1d8-45e9-b4de-36322ad6fb37",
   "metadata": {},
   "outputs": [],
   "source": []
  }
 ],
 "metadata": {
  "kernelspec": {
   "display_name": "Python 3 (ipykernel)",
   "language": "python",
   "name": "python3"
  },
  "language_info": {
   "codemirror_mode": {
    "name": "ipython",
    "version": 3
   },
   "file_extension": ".py",
   "mimetype": "text/x-python",
   "name": "python",
   "nbconvert_exporter": "python",
   "pygments_lexer": "ipython3",
   "version": "3.9.13"
  }
 },
 "nbformat": 4,
 "nbformat_minor": 5
}
