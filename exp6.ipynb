{
 "cells": [
  {
   "cell_type": "markdown",
   "id": "f5204309-9b13-4f15-8e36-480b51e46063",
   "metadata": {},
   "source": [
    "#experiment 6"
   ]
  },
  {
   "cell_type": "code",
   "execution_count": 2,
   "id": "545bff9c-6a91-4feb-ba16-afc0ab517ec3",
   "metadata": {},
   "outputs": [],
   "source": [
    "import numpy as np\n",
    "import pandas as pd\n",
    "import matplotlib.pyplot as p"
   ]
  },
  {
   "cell_type": "code",
   "execution_count": null,
   "id": "36eef5e6-731d-4ad4-8bf8-82249a2844df",
   "metadata": {},
   "outputs": [],
   "source": []
  }
 ],
 "metadata": {
  "kernelspec": {
   "display_name": "Python 3 (ipykernel)",
   "language": "python",
   "name": "python3"
  },
  "language_info": {
   "codemirror_mode": {
    "name": "ipython",
    "version": 3
   },
   "file_extension": ".py",
   "mimetype": "text/x-python",
   "name": "python",
   "nbconvert_exporter": "python",
   "pygments_lexer": "ipython3",
   "version": "3.9.13"
  }
 },
 "nbformat": 4,
 "nbformat_minor": 5
}
