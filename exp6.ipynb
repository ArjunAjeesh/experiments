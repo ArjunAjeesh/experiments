{
 "cells": [
  {
   "cell_type": "markdown",
   "id": "f5204309-9b13-4f15-8e36-480b51e46063",
   "metadata": {},
   "source": [
    "#experiment 6"
   ]
  },
  {
   "cell_type": "code",
   "execution_count": 2,
   "id": "545bff9c-6a91-4feb-ba16-afc0ab517ec3",
   "metadata": {},
   "outputs": [],
   "source": [
    "import numpy as np\n",
    "import pandas as pd\n",
    "import matplotlib.pyplot as p"
   ]
  },
  {
   "cell_type": "code",
   "execution_count": 6,
   "id": "36eef5e6-731d-4ad4-8bf8-82249a2844df",
   "metadata": {},
   "outputs": [],
   "source": [
    "df=pd.read_excel(r'C:\\Users\\ARJUN\\OneDrive\\Desktop\\jain\\4Th sem dpfe\\exp6.xlsx')"
   ]
  },
  {
   "cell_type": "code",
   "execution_count": 7,
   "id": "3384e3c5-cb49-481b-bb31-466d7ca3557a",
   "metadata": {},
   "outputs": [
    {
     "data": {
      "text/html": [
       "<div>\n",
       "<style scoped>\n",
       "    .dataframe tbody tr th:only-of-type {\n",
       "        vertical-align: middle;\n",
       "    }\n",
       "\n",
       "    .dataframe tbody tr th {\n",
       "        vertical-align: top;\n",
       "    }\n",
       "\n",
       "    .dataframe thead th {\n",
       "        text-align: right;\n",
       "    }\n",
       "</style>\n",
       "<table border=\"1\" class=\"dataframe\">\n",
       "  <thead>\n",
       "    <tr style=\"text-align: right;\">\n",
       "      <th></th>\n",
       "      <th>Marks1</th>\n",
       "      <th>Marks 2</th>\n",
       "      <th>Marks 3</th>\n",
       "    </tr>\n",
       "  </thead>\n",
       "  <tbody>\n",
       "    <tr>\n",
       "      <th>0</th>\n",
       "      <td>47</td>\n",
       "      <td>7</td>\n",
       "      <td>27</td>\n",
       "    </tr>\n",
       "    <tr>\n",
       "      <th>1</th>\n",
       "      <td>31</td>\n",
       "      <td>32</td>\n",
       "      <td>3</td>\n",
       "    </tr>\n",
       "    <tr>\n",
       "      <th>2</th>\n",
       "      <td>34</td>\n",
       "      <td>34</td>\n",
       "      <td>27</td>\n",
       "    </tr>\n",
       "    <tr>\n",
       "      <th>3</th>\n",
       "      <td>15</td>\n",
       "      <td>36</td>\n",
       "      <td>38</td>\n",
       "    </tr>\n",
       "    <tr>\n",
       "      <th>4</th>\n",
       "      <td>10</td>\n",
       "      <td>17</td>\n",
       "      <td>33</td>\n",
       "    </tr>\n",
       "    <tr>\n",
       "      <th>5</th>\n",
       "      <td>41</td>\n",
       "      <td>0</td>\n",
       "      <td>18</td>\n",
       "    </tr>\n",
       "    <tr>\n",
       "      <th>6</th>\n",
       "      <td>4</td>\n",
       "      <td>37</td>\n",
       "      <td>4</td>\n",
       "    </tr>\n",
       "    <tr>\n",
       "      <th>7</th>\n",
       "      <td>34</td>\n",
       "      <td>44</td>\n",
       "      <td>14</td>\n",
       "    </tr>\n",
       "    <tr>\n",
       "      <th>8</th>\n",
       "      <td>15</td>\n",
       "      <td>34</td>\n",
       "      <td>30</td>\n",
       "    </tr>\n",
       "    <tr>\n",
       "      <th>9</th>\n",
       "      <td>43</td>\n",
       "      <td>34</td>\n",
       "      <td>18</td>\n",
       "    </tr>\n",
       "    <tr>\n",
       "      <th>10</th>\n",
       "      <td>39</td>\n",
       "      <td>27</td>\n",
       "      <td>17</td>\n",
       "    </tr>\n",
       "    <tr>\n",
       "      <th>11</th>\n",
       "      <td>49</td>\n",
       "      <td>5</td>\n",
       "      <td>3</td>\n",
       "    </tr>\n",
       "    <tr>\n",
       "      <th>12</th>\n",
       "      <td>26</td>\n",
       "      <td>19</td>\n",
       "      <td>11</td>\n",
       "    </tr>\n",
       "    <tr>\n",
       "      <th>13</th>\n",
       "      <td>12</td>\n",
       "      <td>17</td>\n",
       "      <td>14</td>\n",
       "    </tr>\n",
       "    <tr>\n",
       "      <th>14</th>\n",
       "      <td>25</td>\n",
       "      <td>36</td>\n",
       "      <td>11</td>\n",
       "    </tr>\n",
       "  </tbody>\n",
       "</table>\n",
       "</div>"
      ],
      "text/plain": [
       "    Marks1  Marks 2  Marks 3\n",
       "0       47        7       27\n",
       "1       31       32        3\n",
       "2       34       34       27\n",
       "3       15       36       38\n",
       "4       10       17       33\n",
       "5       41        0       18\n",
       "6        4       37        4\n",
       "7       34       44       14\n",
       "8       15       34       30\n",
       "9       43       34       18\n",
       "10      39       27       17\n",
       "11      49        5        3\n",
       "12      26       19       11\n",
       "13      12       17       14\n",
       "14      25       36       11"
      ]
     },
     "execution_count": 7,
     "metadata": {},
     "output_type": "execute_result"
    }
   ],
   "source": [
    "df"
   ]
  },
  {
   "cell_type": "code",
   "execution_count": 8,
   "id": "ca95041f-7b17-41da-814b-edc6cee13d0e",
   "metadata": {},
   "outputs": [
    {
     "data": {
      "text/plain": [
       "<AxesSubplot:>"
      ]
     },
     "execution_count": 8,
     "metadata": {},
     "output_type": "execute_result"
    },
    {
     "data": {
      "image/png": "[encoded data removed]",
      "text/plain": [
       "<Figure size 640x480 with 1 Axes>"
      ]
     },
     "metadata": {},
     "output_type": "display_data"
    }
   ],
   "source": [
    "df.plot(kind = 'bar')"
   ]
  },
  {
   "cell_type": "code",
   "execution_count": 9,
   "id": "eb5ff570-d7a1-47cf-b99c-9b7fc37ab88c",
   "metadata": {},
   "outputs": [],
   "source": [
    "def absolute_maximum_scale(series):\n",
    "    return series / series.abs().max()\n",
    "\n",
    "for col in df.columns:\n",
    "    df[col] = absolute_maximum_scale(df[col])"
   ]
  },
  {
   "cell_type": "code",
   "execution_count": 10,
   "id": "1ae33b5e-646b-4276-a10d-9ff53064e2e2",
   "metadata": {},
   "outputs": [
    {
     "data": {
      "text/html": [
       "<div>\n",
       "<style scoped>\n",
       "    .dataframe tbody tr th:only-of-type {\n",
       "        vertical-align: middle;\n",
       "    }\n",
       "\n",
       "    .dataframe tbody tr th {\n",
       "        vertical-align: top;\n",
       "    }\n",
       "\n",
       "    .dataframe thead th {\n",
       "        text-align: right;\n",
       "    }\n",
       "</style>\n",
       "<table border=\"1\" class=\"dataframe\">\n",
       "  <thead>\n",
       "    <tr style=\"text-align: right;\">\n",
       "      <th></th>\n",
       "      <th>Marks1</th>\n",
       "      <th>Marks 2</th>\n",
       "      <th>Marks 3</th>\n",
       "    </tr>\n",
       "  </thead>\n",
       "  <tbody>\n",
       "    <tr>\n",
       "      <th>0</th>\n",
       "      <td>0.959184</td>\n",
       "      <td>0.159091</td>\n",
       "      <td>0.710526</td>\n",
       "    </tr>\n",
       "    <tr>\n",
       "      <th>1</th>\n",
       "      <td>0.632653</td>\n",
       "      <td>0.727273</td>\n",
       "      <td>0.078947</td>\n",
       "    </tr>\n",
       "    <tr>\n",
       "      <th>2</th>\n",
       "      <td>0.693878</td>\n",
       "      <td>0.772727</td>\n",
       "      <td>0.710526</td>\n",
       "    </tr>\n",
       "    <tr>\n",
       "      <th>3</th>\n",
       "      <td>0.306122</td>\n",
       "      <td>0.818182</td>\n",
       "      <td>1.000000</td>\n",
       "    </tr>\n",
       "    <tr>\n",
       "      <th>4</th>\n",
       "      <td>0.204082</td>\n",
       "      <td>0.386364</td>\n",
       "      <td>0.868421</td>\n",
       "    </tr>\n",
       "    <tr>\n",
       "      <th>5</th>\n",
       "      <td>0.836735</td>\n",
       "      <td>0.000000</td>\n",
       "      <td>0.473684</td>\n",
       "    </tr>\n",
       "    <tr>\n",
       "      <th>6</th>\n",
       "      <td>0.081633</td>\n",
       "      <td>0.840909</td>\n",
       "      <td>0.105263</td>\n",
       "    </tr>\n",
       "    <tr>\n",
       "      <th>7</th>\n",
       "      <td>0.693878</td>\n",
       "      <td>1.000000</td>\n",
       "      <td>0.368421</td>\n",
       "    </tr>\n",
       "    <tr>\n",
       "      <th>8</th>\n",
       "      <td>0.306122</td>\n",
       "      <td>0.772727</td>\n",
       "      <td>0.789474</td>\n",
       "    </tr>\n",
       "    <tr>\n",
       "      <th>9</th>\n",
       "      <td>0.877551</td>\n",
       "      <td>0.772727</td>\n",
       "      <td>0.473684</td>\n",
       "    </tr>\n",
       "    <tr>\n",
       "      <th>10</th>\n",
       "      <td>0.795918</td>\n",
       "      <td>0.613636</td>\n",
       "      <td>0.447368</td>\n",
       "    </tr>\n",
       "    <tr>\n",
       "      <th>11</th>\n",
       "      <td>1.000000</td>\n",
       "      <td>0.113636</td>\n",
       "      <td>0.078947</td>\n",
       "    </tr>\n",
       "    <tr>\n",
       "      <th>12</th>\n",
       "      <td>0.530612</td>\n",
       "      <td>0.431818</td>\n",
       "      <td>0.289474</td>\n",
       "    </tr>\n",
       "    <tr>\n",
       "      <th>13</th>\n",
       "      <td>0.244898</td>\n",
       "      <td>0.386364</td>\n",
       "      <td>0.368421</td>\n",
       "    </tr>\n",
       "    <tr>\n",
       "      <th>14</th>\n",
       "      <td>0.510204</td>\n",
       "      <td>0.818182</td>\n",
       "      <td>0.289474</td>\n",
       "    </tr>\n",
       "  </tbody>\n",
       "</table>\n",
       "</div>"
      ],
      "text/plain": [
       "      Marks1   Marks 2   Marks 3\n",
       "0   0.959184  0.159091  0.710526\n",
       "1   0.632653  0.727273  0.078947\n",
       "2   0.693878  0.772727  0.710526\n",
       "3   0.306122  0.818182  1.000000\n",
       "4   0.204082  0.386364  0.868421\n",
       "5   0.836735  0.000000  0.473684\n",
       "6   0.081633  0.840909  0.105263\n",
       "7   0.693878  1.000000  0.368421\n",
       "8   0.306122  0.772727  0.789474\n",
       "9   0.877551  0.772727  0.473684\n",
       "10  0.795918  0.613636  0.447368\n",
       "11  1.000000  0.113636  0.078947\n",
       "12  0.530612  0.431818  0.289474\n",
       "13  0.244898  0.386364  0.368421\n",
       "14  0.510204  0.818182  0.289474"
      ]
     },
     "execution_count": 10,
     "metadata": {},
     "output_type": "execute_result"
    }
   ],
   "source": [
    "df"
   ]
  },
  {
   "cell_type": "code",
   "execution_count": 11,
   "id": "8a649775-a980-4e78-8e43-b57293ac1ffd",
   "metadata": {},
   "outputs": [
    {
     "data": {
      "text/plain": [
       "<AxesSubplot:>"
      ]
     },
     "execution_count": 11,
     "metadata": {},
     "output_type": "execute_result"
    },
    {
     "data": {
      "image/png": "[encoded data removed]",
      "text/plain": [
       "<Figure size 640x480 with 1 Axes>"
      ]
     },
     "metadata": {},
     "output_type": "display_data"
    }
   ],
   "source": [
    "df.plot(kind= 'bar')"
   ]
  },
  {
   "cell_type": "code",
   "execution_count": 12,
   "id": "8dbcbdc9-6a96-45db-bbf9-16b8bb71b171",
   "metadata": {},
   "outputs": [
    {
     "name": "stdout",
     "output_type": "stream",
     "text": [
      "     Marks1   Marks 2   Marks 3\n",
      "0  0.955556  0.159091  0.685714\n",
      "1  0.600000  0.727273  0.000000\n",
      "2  0.666667  0.772727  0.685714\n",
      "3  0.244444  0.818182  1.000000\n",
      "4  0.133333  0.386364  0.857143\n"
     ]
    }
   ],
   "source": [
    "def min_max_scaling(series):\n",
    "    return (series - series.min()) / (series.max() - series.min())\n",
    "\n",
    "for col in df.columns:\n",
    "    df[col] = min_max_scaling(df[col])\n",
    "\n",
    "print(df.head())"
   ]
  },
  {
   "cell_type": "code",
   "execution_count": 13,
   "id": "50139d17-e320-4192-b3b4-612a28eb241b",
   "metadata": {},
   "outputs": [
    {
     "data": {
      "text/plain": [
       "<AxesSubplot:>"
      ]
     },
     "execution_count": 13,
     "metadata": {},
     "output_type": "execute_result"
    },
    {
     "data": {
      "image/png": "[encoded data removed]",
      "text/plain": [
       "<Figure size 640x480 with 1 Axes>"
      ]
     },
     "metadata": {},
     "output_type": "display_data"
    }
   ],
   "source": [
    "df.plot(kind= 'bar')"
   ]
  },
  {
   "cell_type": "code",
   "execution_count": 14,
   "id": "b957248a-d2cc-48f5-b04b-09ca384934cf",
   "metadata": {},
   "outputs": [],
   "source": [
    "def z_score_standardization(series):\n",
    "    return (series - series.mean()) / series.std()\n",
    "\n",
    "for col in df.columns:\n",
    "    df[col] = z_score_standardization(df[col])\n",
    "\n"
   ]
  },
  {
   "cell_type": "code",
   "execution_count": 15,
   "id": "997a01e1-25c1-4833-a067-bf2e0b08f2ab",
   "metadata": {},
   "outputs": [
    {
     "data": {
      "text/html": [
       "<div>\n",
       "<style scoped>\n",
       "    .dataframe tbody tr th:only-of-type {\n",
       "        vertical-align: middle;\n",
       "    }\n",
       "\n",
       "    .dataframe tbody tr th {\n",
       "        vertical-align: top;\n",
       "    }\n",
       "\n",
       "    .dataframe thead th {\n",
       "        text-align: right;\n",
       "    }\n",
       "</style>\n",
       "<table border=\"1\" class=\"dataframe\">\n",
       "  <thead>\n",
       "    <tr style=\"text-align: right;\">\n",
       "      <th></th>\n",
       "      <th>Marks1</th>\n",
       "      <th>Marks 2</th>\n",
       "      <th>Marks 3</th>\n",
       "    </tr>\n",
       "  </thead>\n",
       "  <tbody>\n",
       "    <tr>\n",
       "      <th>0</th>\n",
       "      <td>1.296231</td>\n",
       "      <td>-1.352177</td>\n",
       "      <td>0.826958</td>\n",
       "    </tr>\n",
       "    <tr>\n",
       "      <th>1</th>\n",
       "      <td>0.185176</td>\n",
       "      <td>0.498430</td>\n",
       "      <td>-1.346070</td>\n",
       "    </tr>\n",
       "    <tr>\n",
       "      <th>2</th>\n",
       "      <td>0.393499</td>\n",
       "      <td>0.646479</td>\n",
       "      <td>0.826958</td>\n",
       "    </tr>\n",
       "    <tr>\n",
       "      <th>3</th>\n",
       "      <td>-0.925879</td>\n",
       "      <td>0.794527</td>\n",
       "      <td>1.822929</td>\n",
       "    </tr>\n",
       "    <tr>\n",
       "      <th>4</th>\n",
       "      <td>-1.273084</td>\n",
       "      <td>-0.611934</td>\n",
       "      <td>1.370215</td>\n",
       "    </tr>\n",
       "    <tr>\n",
       "      <th>5</th>\n",
       "      <td>0.879585</td>\n",
       "      <td>-1.870347</td>\n",
       "      <td>0.012072</td>\n",
       "    </tr>\n",
       "    <tr>\n",
       "      <th>6</th>\n",
       "      <td>-1.689729</td>\n",
       "      <td>0.868552</td>\n",
       "      <td>-1.255527</td>\n",
       "    </tr>\n",
       "    <tr>\n",
       "      <th>7</th>\n",
       "      <td>0.393499</td>\n",
       "      <td>1.386722</td>\n",
       "      <td>-0.350099</td>\n",
       "    </tr>\n",
       "    <tr>\n",
       "      <th>8</th>\n",
       "      <td>-0.925879</td>\n",
       "      <td>0.646479</td>\n",
       "      <td>1.098586</td>\n",
       "    </tr>\n",
       "    <tr>\n",
       "      <th>9</th>\n",
       "      <td>1.018467</td>\n",
       "      <td>0.646479</td>\n",
       "      <td>0.012072</td>\n",
       "    </tr>\n",
       "    <tr>\n",
       "      <th>10</th>\n",
       "      <td>0.740703</td>\n",
       "      <td>0.128309</td>\n",
       "      <td>-0.078470</td>\n",
       "    </tr>\n",
       "    <tr>\n",
       "      <th>11</th>\n",
       "      <td>1.435113</td>\n",
       "      <td>-1.500226</td>\n",
       "      <td>-1.346070</td>\n",
       "    </tr>\n",
       "    <tr>\n",
       "      <th>12</th>\n",
       "      <td>-0.162029</td>\n",
       "      <td>-0.463886</td>\n",
       "      <td>-0.621727</td>\n",
       "    </tr>\n",
       "    <tr>\n",
       "      <th>13</th>\n",
       "      <td>-1.134202</td>\n",
       "      <td>-0.611934</td>\n",
       "      <td>-0.350099</td>\n",
       "    </tr>\n",
       "    <tr>\n",
       "      <th>14</th>\n",
       "      <td>-0.231470</td>\n",
       "      <td>0.794527</td>\n",
       "      <td>-0.621727</td>\n",
       "    </tr>\n",
       "  </tbody>\n",
       "</table>\n",
       "</div>"
      ],
      "text/plain": [
       "      Marks1   Marks 2   Marks 3\n",
       "0   1.296231 -1.352177  0.826958\n",
       "1   0.185176  0.498430 -1.346070\n",
       "2   0.393499  0.646479  0.826958\n",
       "3  -0.925879  0.794527  1.822929\n",
       "4  -1.273084 -0.611934  1.370215\n",
       "5   0.879585 -1.870347  0.012072\n",
       "6  -1.689729  0.868552 -1.255527\n",
       "7   0.393499  1.386722 -0.350099\n",
       "8  -0.925879  0.646479  1.098586\n",
       "9   1.018467  0.646479  0.012072\n",
       "10  0.740703  0.128309 -0.078470\n",
       "11  1.435113 -1.500226 -1.346070\n",
       "12 -0.162029 -0.463886 -0.621727\n",
       "13 -1.134202 -0.611934 -0.350099\n",
       "14 -0.231470  0.794527 -0.621727"
      ]
     },
     "execution_count": 15,
     "metadata": {},
     "output_type": "execute_result"
    }
   ],
   "source": [
    "df"
   ]
  },
  {
   "cell_type": "code",
   "execution_count": 16,
   "id": "715d2f9e-fb0b-4dee-a85c-54214f90a421",
   "metadata": {},
   "outputs": [
    {
     "data": {
      "text/plain": [
       "<AxesSubplot:>"
      ]
     },
     "execution_count": 16,
     "metadata": {},
     "output_type": "execute_result"
    },
    {
     "data": {
      "image/png": "[encoded data removed]",
      "text/plain": [
       "<Figure size 640x480 with 1 Axes>"
      ]
     },
     "metadata": {},
     "output_type": "display_data"
    }
   ],
   "source": [
    "df.plot(kind= 'bar')"
   ]
  },
  {
   "cell_type": "code",
   "execution_count": 17,
   "id": "4dcd1b45-12f4-43db-9f43-a367c35713cf",
   "metadata": {},
   "outputs": [
    {
     "data": {
      "text/plain": [
       "0     0.826958\n",
       "1     1.346070\n",
       "2     0.826958\n",
       "3     1.822929\n",
       "4     1.370215\n",
       "5     0.012072\n",
       "6     1.255527\n",
       "7     0.350099\n",
       "8     1.098586\n",
       "9     0.012072\n",
       "10    0.078470\n",
       "11    1.346070\n",
       "12    0.621727\n",
       "13    0.350099\n",
       "14    0.621727\n",
       "Name: Marks 3, dtype: float64"
      ]
     },
     "execution_count": 17,
     "metadata": {},
     "output_type": "execute_result"
    }
   ],
   "source": [
    "df[col].abs()"
   ]
  },
  {
   "cell_type": "code",
   "execution_count": 20,
   "id": "9f0bcd2b-3be2-463e-b3f2-fd73dbb85bf2",
   "metadata": {},
   "outputs": [
    {
     "data": {
      "text/plain": [
       "1.8229286643369498"
      ]
     },
     "execution_count": 20,
     "metadata": {},
     "output_type": "execute_result"
    }
   ],
   "source": [
    "df[col].max()"
   ]
  },
  {
   "cell_type": "code",
   "execution_count": 21,
   "id": "9806da97-e2f8-47a6-a488-68b48868d287",
   "metadata": {},
   "outputs": [
    {
     "data": {
      "text/plain": [
       "-1.3460698415468206"
      ]
     },
     "execution_count": 21,
     "metadata": {},
     "output_type": "execute_result"
    }
   ],
   "source": [
    "df[col].min()"
   ]
  },
  {
   "cell_type": "code",
   "execution_count": 23,
   "id": "76543d52-fb7c-4167-96ca-1717cae934fb",
   "metadata": {},
   "outputs": [
    {
     "data": {
      "text/plain": [
       "-3.700743415417188e-17"
      ]
     },
     "execution_count": 23,
     "metadata": {},
     "output_type": "execute_result"
    }
   ],
   "source": [
    "df[col].mean()"
   ]
  },
  {
   "cell_type": "code",
   "execution_count": 24,
   "id": "74ad1baa-a17e-4029-a609-cd8346112a04",
   "metadata": {},
   "outputs": [
    {
     "data": {
      "text/plain": [
       "1.0000000000000002"
      ]
     },
     "execution_count": 24,
     "metadata": {},
     "output_type": "execute_result"
    }
   ],
   "source": [
    "df[col].std()"
   ]
  },
  {
   "cell_type": "code",
   "execution_count": null,
   "id": "5d26bdda-f8a3-43d7-aa26-a5bf484ff310",
   "metadata": {},
   "outputs": [],
   "source": []
  }
 ],
 "metadata": {
  "kernelspec": {
   "display_name": "Python 3 (ipykernel)",
   "language": "python",
   "name": "python3"
  },
  "language_info": {
   "codemirror_mode": {
    "name": "ipython",
    "version": 3
   },
   "file_extension": ".py",
   "mimetype": "text/x-python",
   "name": "python",
   "nbconvert_exporter": "python",
   "pygments_lexer": "ipython3",
   "version": "3.9.13"
  }
 },
 "nbformat": 4,
 "nbformat_minor": 5
}
